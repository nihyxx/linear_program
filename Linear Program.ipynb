{
 "cells": [
  {
   "cell_type": "markdown",
   "id": "68554636",
   "metadata": {},
   "source": [
    "## A Political Problem\n",
    "<br>\n",
    "\\begin{align*} \n",
    "    \\text{Min.} \\quad z=X_1 + X_2 +X_3+X_4\\\\\n",
    "    \\text {s.t.}\\quad -2X_1+8X_2+\\ \\ 0X_3+10X_4 &>= 50\\\\\n",
    "    5X_1+2X_2+\\ \\ 0X_3+\\ \\ 0X_4 &>=100\\\\\n",
    "    3X_1-5X_2+10X_3-\\ \\ 2X_4 &>= 25\\\\\n",
    "    x_i \\geq 0, \\quad i=1,2,3,4.\n",
    "\\end{align*}\n",
    "\n",
    "\n",
    "   \n",
    "    \n",
    "\n"
   ]
  },
  {
   "cell_type": "code",
   "execution_count": 1,
   "id": "9fd3b006",
   "metadata": {},
   "outputs": [],
   "source": [
    "from scipy.optimize import linprog"
   ]
  },
  {
   "cell_type": "markdown",
   "id": "bde461fe",
   "metadata": {},
   "source": [
    "### scipy.optimize.linprog(*c, A_ub=None, b_ub=None, A_eq=None, b_eq=None, bounds=None, method='highs', callback=None, options=None, x0=None, integrality=None*)\n",
    "\n",
    "\\begin{align*}\n",
    "\\min_x \\ c^T x \\qquad\\\\\n",
    "\\mbox{s.t.} \\  A_{ub} x \\leq b_{ub},\\\\\n",
    "A_{eq} x = b_{eq},\\\\\n",
    "l \\leq x \\leq u ,\n",
    "\\end{align*}\n"
   ]
  },
  {
   "cell_type": "markdown",
   "id": "d06f5b3f",
   "metadata": {},
   "source": [
    "\\begin{align*} \n",
    "    \\text{Min.} \\quad z=X_1 + X_2 +X_3+X_4\\\\\n",
    "    \\text {s.t.}\\quad 2X_1-8X_2-\\ \\ 0X_3-10X_4 &<= -50\\\\\n",
    "    -5X_1-2X_2-\\ \\ 0X_3-\\ \\ 0X_4 &<= -100\\\\\n",
    "    -3X_1+5X_2-10X_3+\\ \\ 2X_4 &<= -25\\\\\n",
    "    x_i \\geq 0, \\quad i=1,2,3,4.\n",
    "\\end{align*}"
   ]
  },
  {
   "cell_type": "code",
   "execution_count": 3,
   "id": "62eddc4f",
   "metadata": {},
   "outputs": [],
   "source": [
    "obj = [1, 1, 1, 1]\n",
    "lhs = [[2,-8,0,-10],[-5,-2,0,0],[-3,5,-10,2]]\n",
    "rhs = [-50,-100,-25]\n",
    "## By default, bounds are (0, None) "
   ]
  },
  {
   "cell_type": "code",
   "execution_count": 4,
   "id": "1f1ca2ff",
   "metadata": {},
   "outputs": [
    {
     "name": "stdout",
     "output_type": "stream",
     "text": [
      "     con: array([], dtype=float64)\n",
      "     fun: 27.927927893445542\n",
      " message: 'Optimization terminated successfully.'\n",
      "     nit: 5\n",
      "   slack: array([-1.04418625e-07, -2.77741279e-07,  4.78354693e-07])\n",
      "  status: 0\n",
      " success: True\n",
      "       x: array([1.84684685e+01, 3.82882872e+00, 1.26159636e-08, 5.63063070e+00])\n"
     ]
    }
   ],
   "source": [
    "optimization = linprog(c=obj, A_ub=lhs, b_ub=rhs)\n",
    "print (optimization)"
   ]
  }
 ],
 "metadata": {
  "kernelspec": {
   "display_name": "Python 3",
   "language": "python",
   "name": "python3"
  },
  "language_info": {
   "codemirror_mode": {
    "name": "ipython",
    "version": 3
   },
   "file_extension": ".py",
   "mimetype": "text/x-python",
   "name": "python",
   "nbconvert_exporter": "python",
   "pygments_lexer": "ipython3",
   "version": "3.8.8"
  }
 },
 "nbformat": 4,
 "nbformat_minor": 5
}
